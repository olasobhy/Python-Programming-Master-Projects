{
 "cells": [
  {
   "cell_type": "code",
   "execution_count": 1,
   "id": "4ba2e849",
   "metadata": {},
   "outputs": [],
   "source": [
    " import numpy as np"
   ]
  },
  {
   "cell_type": "code",
   "execution_count": 8,
   "id": "657a86f7",
   "metadata": {},
   "outputs": [],
   "source": [
    "random_num =np.random.randint(0,100)"
   ]
  },
  {
   "cell_type": "code",
   "execution_count": 12,
   "id": "8348ba08",
   "metadata": {},
   "outputs": [
    {
     "name": "stdout",
     "output_type": "stream",
     "text": [
      "40\n",
      "this ur first\n",
      "50\n",
      "continue you get closer\n",
      "60\n",
      "continue you get closer\n",
      "70\n",
      "continue you get closer\n",
      "80\n",
      "oops you get further\n",
      "72\n",
      "congratulatin you guess correct\n",
      "your trials is [40, 50, 60, 70, 80]\n"
     ]
    }
   ],
   "source": [
    "lst=[]\n",
    "while True:\n",
    "    num = int(input())\n",
    "    if len(lst)==0:\n",
    "        print('this ur first')\n",
    "        lst.append(num)\n",
    "        continue\n",
    "    if num == random_num:\n",
    "        print('congratulatin you guess correct')\n",
    "        break\n",
    "    elif (num<0 | num>100):\n",
    "            print('you only guess in range 0 , 100' )\n",
    "            lst.append(num)\n",
    "    elif (abs(lst[-1]-random_num) >abs(num -random_num)):\n",
    "        print('continue you get closer')\n",
    "        lst.append(num)\n",
    "    else:\n",
    "        print('oops you get further')\n",
    "        lst.append(num)\n",
    "print(f'your gusess is {lst}')        "
   ]
  },
  {
   "cell_type": "code",
   "execution_count": null,
   "id": "408e2e58",
   "metadata": {},
   "outputs": [],
   "source": []
  }
 ],
 "metadata": {
  "kernelspec": {
   "display_name": "Python 3 (ipykernel)",
   "language": "python",
   "name": "python3"
  },
  "language_info": {
   "codemirror_mode": {
    "name": "ipython",
    "version": 3
   },
   "file_extension": ".py",
   "mimetype": "text/x-python",
   "name": "python",
   "nbconvert_exporter": "python",
   "pygments_lexer": "ipython3",
   "version": "3.9.12"
  }
 },
 "nbformat": 4,
 "nbformat_minor": 5
}
