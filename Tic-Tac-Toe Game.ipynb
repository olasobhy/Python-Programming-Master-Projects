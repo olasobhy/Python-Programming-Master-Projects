{
 "cells": [
  {
   "cell_type": "code",
   "execution_count": 1,
   "id": "d15032fd",
   "metadata": {},
   "outputs": [],
   "source": [
    "board=[['-' ,'-','-'] ,\n",
    "       ['-','-','-'],\n",
    "       ['-','-','-']]"
   ]
  },
  {
   "cell_type": "code",
   "execution_count": 2,
   "id": "8fda4f49",
   "metadata": {},
   "outputs": [],
   "source": [
    "def print_board(board):\n",
    "    for i in range (0,3):\n",
    "        print(board[i][0]+'|'+board[i][1]+'|'+board[i][2]+'|')\n",
    "        print('------')"
   ]
  },
  {
   "cell_type": "code",
   "execution_count": 3,
   "id": "d871f886",
   "metadata": {},
   "outputs": [],
   "source": [
    "sympol=''\n",
    "#handle player moves\n",
    "def move(board , symbol):\n",
    "    user_input=(input('enter location'))\n",
    "    user_input =[ int (i) for i in user_input.split()]\n",
    "    while(board[user_input[0]-1][user_input[1]-1]=='-'):\n",
    "        board[user_input[0]-1][user_input[1]-1] =symbol\n",
    "  "
   ]
  },
  {
   "cell_type": "code",
   "execution_count": 4,
   "id": "f1791ff9",
   "metadata": {},
   "outputs": [],
   "source": [
    "def win (board , symbol):\n",
    "    #check rows\n",
    "    for i in range (0,3):\n",
    "        if ((board[i][0]==symbol) and( board[i][1] == symbol) and (board[i][2]==symbol)):\n",
    "            return True\n",
    "    #check columns\n",
    "    for i in range (0,3):\n",
    "            if((board[0][i]==symbol) and (board[1][i]==symbol) and (board[2][i]==symbol)):\n",
    "                return True\n",
    "    #check diagonals\n",
    "    if ((board[0][0] ==symbol) and (board[1][1] ==symbol) and (board[2][2] ==symbol)):\n",
    "        return True\n",
    "    if ((board[2][0] ==symbol) and (board[1][1] ==symbol) and (board[0][2] ==symbol)):\n",
    "        return True \n",
    "    "
   ]
  },
  {
   "cell_type": "code",
   "execution_count": 5,
   "id": "15ec0d68",
   "metadata": {},
   "outputs": [],
   "source": [
    "#check for a tie\n",
    "def tie (board):\n",
    "    if '-' not in board[0] and  '-' not in board[1] and '-' not in board[2]:\n",
    "        return True"
   ]
  },
  {
   "cell_type": "code",
   "execution_count": 15,
   "id": "949c5979",
   "metadata": {},
   "outputs": [
    {
     "name": "stdout",
     "output_type": "stream",
     "text": [
      "U are \"X\" or \"O\" x\n",
      "enter location1 1\n",
      "X|-|-|\n",
      "------\n",
      "-|-|-|\n",
      "------\n",
      "-|-|-|\n",
      "------\n",
      "U are \"X\" or \"O\" X\n",
      "enter location1 2\n",
      "X|X|-|\n",
      "------\n",
      "-|-|-|\n",
      "------\n",
      "-|-|-|\n",
      "------\n",
      "U are \"X\" or \"O\" x\n",
      "enter location1 3\n",
      "X|X|X|\n",
      "------\n",
      "-|-|-|\n",
      "------\n",
      "-|-|-|\n",
      "------\n",
      "X win\n"
     ]
    }
   ],
   "source": [
    "while True:\n",
    "    symbol=input('You are \"X\" or \"O\" ').upper()\n",
    "    symbols =[\"X\" ,\"O\"]\n",
    "    if symbol in symbols:\n",
    "        move(board ,symbol )\n",
    "        print_board(board)\n",
    "        win (board , symbol)\n",
    "        if win (board , symbol):\n",
    "            print(f'{symbol} win')\n",
    "            #reset the board\n",
    "            board=[['-' ,'-','-'] ,\n",
    "                  ['-','-','-'],\n",
    "                  ['-','-','-']]\n",
    "            break\n",
    "        if tie(board):\n",
    "            print(\"Game over!\")\n",
    "            board=[['-' ,'-','-'] ,\n",
    "                  ['-','-','-'],\n",
    "                  ['-','-','-']]\n",
    "            break"
   ]
  },
  {
   "cell_type": "markdown",
   "id": "3939e213",
   "metadata": {},
   "source": []
  }
 ],
 "metadata": {
  "kernelspec": {
   "display_name": "Python 3 (ipykernel)",
   "language": "python",
   "name": "python3"
  },
  "language_info": {
   "codemirror_mode": {
    "name": "ipython",
    "version": 3
   },
   "file_extension": ".py",
   "mimetype": "text/x-python",
   "name": "python",
   "nbconvert_exporter": "python",
   "pygments_lexer": "ipython3",
   "version": "3.9.12"
  }
 },
 "nbformat": 4,
 "nbformat_minor": 5
}
